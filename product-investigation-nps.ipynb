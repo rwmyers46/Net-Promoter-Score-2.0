{
 "cells": [
  {
   "cell_type": "markdown",
   "metadata": {},
   "source": [
    "#### Product Investigation:\n",
    "\n",
    "This example demonstrates how a product owner can evaluate customer satisfaction from online reviews at scale. This process provides managers with higher fidelity information about the online market's sentiment for a product with specific justifications, allowing for more timely, accurate business decisions. \n",
    "\n",
    "Process: a product was selected at random from those containing over 75 reviews. Reviews were then segmented for investigation by sentiment analysis score. Exploring the review score's top and bottom tiers, clear insights emerge for actionable improvements. "
   ]
  },
  {
   "cell_type": "code",
   "execution_count": 1,
   "metadata": {},
   "outputs": [
    {
     "name": "stderr",
     "output_type": "stream",
     "text": [
      "/home/ubuntu/anaconda3/lib/python3.7/site-packages/sklearn/externals/joblib/__init__.py:15: DeprecationWarning: sklearn.externals.joblib is deprecated in 0.21 and will be removed in 0.23. Please import this functionality directly from joblib, which can be installed with: pip install joblib. If this warning is raised when loading pickled models, you may need to re-serialize those models with scikit-learn 0.21+.\n",
      "  warnings.warn(msg, category=DeprecationWarning)\n"
     ]
    }
   ],
   "source": [
    "import pandas as pd\n",
    "import numpy as np\n",
    "\n",
    "from pymongo import MongoClient\n",
    "\n",
    "import re\n",
    "import string\n",
    "import pickle\n",
    "import nltk\n",
    "import spacy\n",
    "\n",
    "from nltk.corpus import stopwords\n",
    "from nltk.corpus.reader.plaintext import PlaintextCorpusReader\n",
    "from collections import Counter\n",
    "from vaderSentiment.vaderSentiment import SentimentIntensityAnalyzer\n",
    "from gensim import corpora, models, similarities, matutils\n",
    "from gensim.corpora import Dictionary\n",
    "import gensim\n",
    "\n",
    "from corextopic import corextopic as ct\n",
    "from corextopic import vis_topic as vt\n",
    "import scipy.sparse as ss\n",
    "\n",
    "from sklearn.linear_model import LogisticRegression\n",
    "from sklearn.feature_extraction.text import CountVectorizer, TfidfVectorizer\n",
    "from sklearn.decomposition import TruncatedSVD, NMF\n",
    "from sklearn.metrics.pairwise import cosine_similarity\n",
    "from sklearn.metrics import confusion_matrix\n",
    "from sklearn.model_selection import train_test_split\n",
    "\n",
    "from sklearn.manifold import TSNE\n",
    "import matplotlib.pyplot as plt\n",
    "import seaborn as sns\n",
    "\n",
    "%matplotlib inline"
   ]
  },
  {
   "cell_type": "markdown",
   "metadata": {},
   "source": [
    "#### Data Import:\n",
    "\n",
    "This data for this project were stored in MongoDB on AWS EC2 and accessed using the PyMongo module. The following code establishes connection, extracts a user-defined number of records from the electronics reviews collection, scans for null values, and creates a new dataframe for the columns of interest.\n",
    "\n",
    "Star reviews are scaled to Net Promoter Scores with the following assumptions: 5 stars equates to a promoter, 4 stars is neutral, and 1-3 stars is a detractor."
   ]
  },
  {
   "cell_type": "code",
   "execution_count": 8,
   "metadata": {},
   "outputs": [
    {
     "name": "stdout",
     "output_type": "stream",
     "text": [
      "Connected to MongoDB on AWS EC2.\n",
      "\n"
     ]
    },
    {
     "name": "stdin",
     "output_type": "stream",
     "text": [
      "Specify number of records: 50000\n"
     ]
    },
    {
     "name": "stdout",
     "output_type": "stream",
     "text": [
      ">> 50000 reviews retrieved from database\n",
      "\n",
      "Null values in df = False \n",
      "\n",
      "Unique products: 18332 \n",
      "\n"
     ]
    },
    {
     "data": {
      "text/html": [
       "<div>\n",
       "<style scoped>\n",
       "    .dataframe tbody tr th:only-of-type {\n",
       "        vertical-align: middle;\n",
       "    }\n",
       "\n",
       "    .dataframe tbody tr th {\n",
       "        vertical-align: top;\n",
       "    }\n",
       "\n",
       "    .dataframe thead th {\n",
       "        text-align: right;\n",
       "    }\n",
       "</style>\n",
       "<table border=\"1\" class=\"dataframe\">\n",
       "  <thead>\n",
       "    <tr style=\"text-align: right;\">\n",
       "      <th></th>\n",
       "      <th>product_id</th>\n",
       "      <th>product_title</th>\n",
       "      <th>review_body</th>\n",
       "      <th>review_headline</th>\n",
       "      <th>star_rating</th>\n",
       "      <th>total_votes</th>\n",
       "      <th>verified_purchase</th>\n",
       "      <th>vine</th>\n",
       "      <th>nps</th>\n",
       "    </tr>\n",
       "  </thead>\n",
       "  <tbody>\n",
       "    <tr>\n",
       "      <th>0</th>\n",
       "      <td>B00428R89M</td>\n",
       "      <td>yoomall 5M Antenna WIFI RP-SMA Female to Male ...</td>\n",
       "      <td>As described.</td>\n",
       "      <td>Five Stars</td>\n",
       "      <td>5</td>\n",
       "      <td>0</td>\n",
       "      <td>Y</td>\n",
       "      <td>N</td>\n",
       "      <td>1</td>\n",
       "    </tr>\n",
       "    <tr>\n",
       "      <th>1</th>\n",
       "      <td>B000068O48</td>\n",
       "      <td>Hosa GPM-103 3.5mm TRS to 1/4\" TRS Adaptor</td>\n",
       "      <td>It works as advertising.</td>\n",
       "      <td>It works as advertising.</td>\n",
       "      <td>5</td>\n",
       "      <td>0</td>\n",
       "      <td>Y</td>\n",
       "      <td>N</td>\n",
       "      <td>1</td>\n",
       "    </tr>\n",
       "    <tr>\n",
       "      <th>2</th>\n",
       "      <td>B000GGKOG8</td>\n",
       "      <td>Channel Master Titan 2 Antenna Preamplifier</td>\n",
       "      <td>Works pissa</td>\n",
       "      <td>Five Stars</td>\n",
       "      <td>5</td>\n",
       "      <td>1</td>\n",
       "      <td>Y</td>\n",
       "      <td>N</td>\n",
       "      <td>1</td>\n",
       "    </tr>\n",
       "    <tr>\n",
       "      <th>3</th>\n",
       "      <td>B000NU4OTA</td>\n",
       "      <td>LIMTECH Wall charger + USB Hotsync &amp; Charging ...</td>\n",
       "      <td>Did not work at all.</td>\n",
       "      <td>One Star</td>\n",
       "      <td>1</td>\n",
       "      <td>0</td>\n",
       "      <td>Y</td>\n",
       "      <td>N</td>\n",
       "      <td>-1</td>\n",
       "    </tr>\n",
       "    <tr>\n",
       "      <th>4</th>\n",
       "      <td>B00JOQIO6S</td>\n",
       "      <td>Skullcandy Air Raid Portable Bluetooth Speaker</td>\n",
       "      <td>Works well. Bass is somewhat lacking but is pr...</td>\n",
       "      <td>Overall pleased with the item</td>\n",
       "      <td>5</td>\n",
       "      <td>1</td>\n",
       "      <td>Y</td>\n",
       "      <td>N</td>\n",
       "      <td>1</td>\n",
       "    </tr>\n",
       "  </tbody>\n",
       "</table>\n",
       "</div>"
      ],
      "text/plain": [
       "   product_id                                      product_title  \\\n",
       "0  B00428R89M  yoomall 5M Antenna WIFI RP-SMA Female to Male ...   \n",
       "1  B000068O48         Hosa GPM-103 3.5mm TRS to 1/4\" TRS Adaptor   \n",
       "2  B000GGKOG8        Channel Master Titan 2 Antenna Preamplifier   \n",
       "3  B000NU4OTA  LIMTECH Wall charger + USB Hotsync & Charging ...   \n",
       "4  B00JOQIO6S     Skullcandy Air Raid Portable Bluetooth Speaker   \n",
       "\n",
       "                                         review_body  \\\n",
       "0                                      As described.   \n",
       "1                           It works as advertising.   \n",
       "2                                        Works pissa   \n",
       "3                               Did not work at all.   \n",
       "4  Works well. Bass is somewhat lacking but is pr...   \n",
       "\n",
       "                 review_headline  star_rating  total_votes verified_purchase  \\\n",
       "0                     Five Stars            5            0                 Y   \n",
       "1       It works as advertising.            5            0                 Y   \n",
       "2                     Five Stars            5            1                 Y   \n",
       "3                       One Star            1            0                 Y   \n",
       "4  Overall pleased with the item            5            1                 Y   \n",
       "\n",
       "  vine  nps  \n",
       "0    N    1  \n",
       "1    N    1  \n",
       "2    N    1  \n",
       "3    N   -1  \n",
       "4    N    1  "
      ]
     },
     "execution_count": 8,
     "metadata": {},
     "output_type": "execute_result"
    }
   ],
   "source": [
    "# connect to Mongo on AWS and pull data:\n",
    "\n",
    "client = MongoClient('mongodb://mongo_myers@3.89.35.220:27017/amazon_reviews', password = 'LIve0603&^')\n",
    "\n",
    "db = client.amazon_reviews\n",
    "    \n",
    "try:\n",
    "    if db.list_collection_names() == ['electronics']:\n",
    "        print(\"Connected to MongoDB on AWS EC2.\\n\")\n",
    "    \n",
    "    total_records = int(input('Specify number of records:'))\n",
    "        \n",
    "    # pull reviews from electronics category to load dataframe:\n",
    "\n",
    "    elec = list(db.electronics.find().limit(total_records))\n",
    "    df = pd.DataFrame(list(elec))\n",
    "    print('>>', df.shape[0],'reviews retrieved from database\\n')\n",
    "\n",
    "except:\n",
    "    print(\"Connection Error.\")\n",
    "    \n",
    "check_null = df.isnull().values.any()\n",
    "print('Null values in df =', check_null, '\\n')\n",
    "\n",
    "df = df[['product_id', 'product_title', 'review_body', 'review_headline', 'star_rating', 'total_votes', 'verified_purchase', 'vine']]\n",
    "\n",
    "# Assign 5 star reviews to 1, 4 star reviews to 0, and 1-3 star reviews to -1:\n",
    "\n",
    "df['nps'] = np.where(df['star_rating'] == 5, 1, np.where(df['star_rating'] == 4, 0, -1))\n",
    "\n",
    "print('Unique products:', len(list(df.product_id.unique())),'\\n')\n",
    "\n",
    "df.to_pickle('df_records.pkl') \n",
    "\n",
    "df.head()"
   ]
  },
  {
   "cell_type": "code",
   "execution_count": 9,
   "metadata": {},
   "outputs": [
    {
     "data": {
      "text/html": [
       "<div>\n",
       "<style scoped>\n",
       "    .dataframe tbody tr th:only-of-type {\n",
       "        vertical-align: middle;\n",
       "    }\n",
       "\n",
       "    .dataframe tbody tr th {\n",
       "        vertical-align: top;\n",
       "    }\n",
       "\n",
       "    .dataframe thead th {\n",
       "        text-align: right;\n",
       "    }\n",
       "</style>\n",
       "<table border=\"1\" class=\"dataframe\">\n",
       "  <thead>\n",
       "    <tr style=\"text-align: right;\">\n",
       "      <th></th>\n",
       "      <th>product_title</th>\n",
       "      <th>review_body</th>\n",
       "      <th>review_headline</th>\n",
       "      <th>star_rating</th>\n",
       "      <th>total_votes</th>\n",
       "      <th>verified_purchase</th>\n",
       "      <th>vine</th>\n",
       "      <th>nps</th>\n",
       "    </tr>\n",
       "    <tr>\n",
       "      <th>product_id</th>\n",
       "      <th></th>\n",
       "      <th></th>\n",
       "      <th></th>\n",
       "      <th></th>\n",
       "      <th></th>\n",
       "      <th></th>\n",
       "      <th></th>\n",
       "      <th></th>\n",
       "    </tr>\n",
       "  </thead>\n",
       "  <tbody>\n",
       "    <tr>\n",
       "      <th>B003L1ZYYM</th>\n",
       "      <td>246</td>\n",
       "      <td>246</td>\n",
       "      <td>246</td>\n",
       "      <td>246</td>\n",
       "      <td>246</td>\n",
       "      <td>246</td>\n",
       "      <td>246</td>\n",
       "      <td>246</td>\n",
       "    </tr>\n",
       "    <tr>\n",
       "      <th>B003EM8008</th>\n",
       "      <td>239</td>\n",
       "      <td>239</td>\n",
       "      <td>239</td>\n",
       "      <td>239</td>\n",
       "      <td>239</td>\n",
       "      <td>239</td>\n",
       "      <td>239</td>\n",
       "      <td>239</td>\n",
       "    </tr>\n",
       "    <tr>\n",
       "      <th>B00F5NE2KG</th>\n",
       "      <td>235</td>\n",
       "      <td>235</td>\n",
       "      <td>235</td>\n",
       "      <td>235</td>\n",
       "      <td>235</td>\n",
       "      <td>235</td>\n",
       "      <td>235</td>\n",
       "      <td>235</td>\n",
       "    </tr>\n",
       "    <tr>\n",
       "      <th>B00IF70T4M</th>\n",
       "      <td>137</td>\n",
       "      <td>137</td>\n",
       "      <td>137</td>\n",
       "      <td>137</td>\n",
       "      <td>137</td>\n",
       "      <td>137</td>\n",
       "      <td>137</td>\n",
       "      <td>137</td>\n",
       "    </tr>\n",
       "    <tr>\n",
       "      <th>B000WYVBR0</th>\n",
       "      <td>131</td>\n",
       "      <td>131</td>\n",
       "      <td>131</td>\n",
       "      <td>131</td>\n",
       "      <td>131</td>\n",
       "      <td>131</td>\n",
       "      <td>131</td>\n",
       "      <td>131</td>\n",
       "    </tr>\n",
       "  </tbody>\n",
       "</table>\n",
       "</div>"
      ],
      "text/plain": [
       "            product_title  review_body  review_headline  star_rating  \\\n",
       "product_id                                                             \n",
       "B003L1ZYYM            246          246              246          246   \n",
       "B003EM8008            239          239              239          239   \n",
       "B00F5NE2KG            235          235              235          235   \n",
       "B00IF70T4M            137          137              137          137   \n",
       "B000WYVBR0            131          131              131          131   \n",
       "\n",
       "            total_votes  verified_purchase  vine  nps  \n",
       "product_id                                             \n",
       "B003L1ZYYM          246                246   246  246  \n",
       "B003EM8008          239                239   239  239  \n",
       "B00F5NE2KG          235                235   235  235  \n",
       "B00IF70T4M          137                137   137  137  \n",
       "B000WYVBR0          131                131   131  131  "
      ]
     },
     "execution_count": 9,
     "metadata": {},
     "output_type": "execute_result"
    }
   ],
   "source": [
    "# create dataframe of products with > 75 reviews:\n",
    "\n",
    "df_counts = df.groupby(['product_id']).count().sort_values('product_title', ascending = False)\n",
    "sort_mask = (df_counts['product_title'] > 75)\n",
    "\n",
    "df_counts[sort_mask].head()"
   ]
  },
  {
   "cell_type": "code",
   "execution_count": 10,
   "metadata": {},
   "outputs": [
    {
     "data": {
      "text/html": [
       "<div>\n",
       "<style scoped>\n",
       "    .dataframe tbody tr th:only-of-type {\n",
       "        vertical-align: middle;\n",
       "    }\n",
       "\n",
       "    .dataframe tbody tr th {\n",
       "        vertical-align: top;\n",
       "    }\n",
       "\n",
       "    .dataframe thead th {\n",
       "        text-align: right;\n",
       "    }\n",
       "</style>\n",
       "<table border=\"1\" class=\"dataframe\">\n",
       "  <thead>\n",
       "    <tr style=\"text-align: right;\">\n",
       "      <th></th>\n",
       "      <th>product_id</th>\n",
       "      <th>product_title</th>\n",
       "      <th>review_body</th>\n",
       "      <th>review_headline</th>\n",
       "      <th>star_rating</th>\n",
       "      <th>total_votes</th>\n",
       "      <th>verified_purchase</th>\n",
       "      <th>vine</th>\n",
       "      <th>nps</th>\n",
       "    </tr>\n",
       "  </thead>\n",
       "  <tbody>\n",
       "    <tr>\n",
       "      <th>615</th>\n",
       "      <td>B00F5NE2KG</td>\n",
       "      <td>Bluetooth Speaker, DKnight Magicbox Ultra-Port...</td>\n",
       "      <td>Nice sound. It cuts out from time to time and ...</td>\n",
       "      <td>Nice sound. It cuts out from time to time ...</td>\n",
       "      <td>4</td>\n",
       "      <td>0</td>\n",
       "      <td>Y</td>\n",
       "      <td>N</td>\n",
       "      <td>0</td>\n",
       "    </tr>\n",
       "    <tr>\n",
       "      <th>922</th>\n",
       "      <td>B00F5NE2KG</td>\n",
       "      <td>Bluetooth Speaker, DKnight Magicbox Ultra-Port...</td>\n",
       "      <td>The sound is pretty good; most important; it w...</td>\n",
       "      <td>A 100% compatible!!</td>\n",
       "      <td>5</td>\n",
       "      <td>0</td>\n",
       "      <td>Y</td>\n",
       "      <td>N</td>\n",
       "      <td>1</td>\n",
       "    </tr>\n",
       "    <tr>\n",
       "      <th>965</th>\n",
       "      <td>B00F5NE2KG</td>\n",
       "      <td>Bluetooth Speaker, DKnight Magicbox Ultra-Port...</td>\n",
       "      <td>Very impressed with the sound quality of this ...</td>\n",
       "      <td>It is a convenient size for travel and I love it!</td>\n",
       "      <td>5</td>\n",
       "      <td>0</td>\n",
       "      <td>Y</td>\n",
       "      <td>N</td>\n",
       "      <td>1</td>\n",
       "    </tr>\n",
       "    <tr>\n",
       "      <th>1019</th>\n",
       "      <td>B00F5NE2KG</td>\n",
       "      <td>Bluetooth Speaker, DKnight Magicbox Ultra-Port...</td>\n",
       "      <td>Sound is ok. Main issue it constant Dropping o...</td>\n",
       "      <td>Connectivity Issues, Ok Sound.</td>\n",
       "      <td>1</td>\n",
       "      <td>0</td>\n",
       "      <td>Y</td>\n",
       "      <td>N</td>\n",
       "      <td>-1</td>\n",
       "    </tr>\n",
       "    <tr>\n",
       "      <th>1047</th>\n",
       "      <td>B00F5NE2KG</td>\n",
       "      <td>Bluetooth Speaker, DKnight Magicbox Ultra-Port...</td>\n",
       "      <td>Love this little guy. good sound and battery l...</td>\n",
       "      <td>In love!</td>\n",
       "      <td>4</td>\n",
       "      <td>0</td>\n",
       "      <td>Y</td>\n",
       "      <td>N</td>\n",
       "      <td>0</td>\n",
       "    </tr>\n",
       "  </tbody>\n",
       "</table>\n",
       "</div>"
      ],
      "text/plain": [
       "      product_id                                      product_title  \\\n",
       "615   B00F5NE2KG  Bluetooth Speaker, DKnight Magicbox Ultra-Port...   \n",
       "922   B00F5NE2KG  Bluetooth Speaker, DKnight Magicbox Ultra-Port...   \n",
       "965   B00F5NE2KG  Bluetooth Speaker, DKnight Magicbox Ultra-Port...   \n",
       "1019  B00F5NE2KG  Bluetooth Speaker, DKnight Magicbox Ultra-Port...   \n",
       "1047  B00F5NE2KG  Bluetooth Speaker, DKnight Magicbox Ultra-Port...   \n",
       "\n",
       "                                            review_body  \\\n",
       "615   Nice sound. It cuts out from time to time and ...   \n",
       "922   The sound is pretty good; most important; it w...   \n",
       "965   Very impressed with the sound quality of this ...   \n",
       "1019  Sound is ok. Main issue it constant Dropping o...   \n",
       "1047  Love this little guy. good sound and battery l...   \n",
       "\n",
       "                                        review_headline  star_rating  \\\n",
       "615       Nice sound. It cuts out from time to time ...            4   \n",
       "922                                 A 100% compatible!!            5   \n",
       "965   It is a convenient size for travel and I love it!            5   \n",
       "1019                     Connectivity Issues, Ok Sound.            1   \n",
       "1047                                           In love!            4   \n",
       "\n",
       "      total_votes verified_purchase vine  nps  \n",
       "615             0                 Y    N    0  \n",
       "922             0                 Y    N    1  \n",
       "965             0                 Y    N    1  \n",
       "1019            0                 Y    N   -1  \n",
       "1047            0                 Y    N    0  "
      ]
     },
     "execution_count": 10,
     "metadata": {},
     "output_type": "execute_result"
    }
   ],
   "source": [
    "# for this example, the 3rd product was \"randomly\" selected:\n",
    "\n",
    "product_mask = (df['product_id'] == 'B00F5NE2KG')\n",
    "df_product = df[product_mask]\n",
    "df_product.head()"
   ]
  },
  {
   "cell_type": "markdown",
   "metadata": {},
   "source": [
    "#### Exploratory Data Analysis:\n",
    "\n",
    "As is often the case with online reviews, this product's ratings are skewed left with median equal to the max of 5 stars. As a derivative of star ratings, Net Promoter Score follows a similar pattern. With both medians also equal to the highest rating, we can hypothesize that there is signal loss in simplified ratings systems."
   ]
  },
  {
   "cell_type": "code",
   "execution_count": 11,
   "metadata": {},
   "outputs": [
    {
     "data": {
      "text/html": [
       "<div>\n",
       "<style scoped>\n",
       "    .dataframe tbody tr th:only-of-type {\n",
       "        vertical-align: middle;\n",
       "    }\n",
       "\n",
       "    .dataframe tbody tr th {\n",
       "        vertical-align: top;\n",
       "    }\n",
       "\n",
       "    .dataframe thead th {\n",
       "        text-align: right;\n",
       "    }\n",
       "</style>\n",
       "<table border=\"1\" class=\"dataframe\">\n",
       "  <thead>\n",
       "    <tr style=\"text-align: right;\">\n",
       "      <th></th>\n",
       "      <th>star_rating</th>\n",
       "      <th>total_votes</th>\n",
       "      <th>nps</th>\n",
       "    </tr>\n",
       "  </thead>\n",
       "  <tbody>\n",
       "    <tr>\n",
       "      <th>count</th>\n",
       "      <td>235.000000</td>\n",
       "      <td>235.000000</td>\n",
       "      <td>235.000000</td>\n",
       "    </tr>\n",
       "    <tr>\n",
       "      <th>mean</th>\n",
       "      <td>4.165957</td>\n",
       "      <td>0.072340</td>\n",
       "      <td>0.336170</td>\n",
       "    </tr>\n",
       "    <tr>\n",
       "      <th>std</th>\n",
       "      <td>1.174020</td>\n",
       "      <td>0.290668</td>\n",
       "      <td>0.822864</td>\n",
       "    </tr>\n",
       "    <tr>\n",
       "      <th>min</th>\n",
       "      <td>1.000000</td>\n",
       "      <td>0.000000</td>\n",
       "      <td>-1.000000</td>\n",
       "    </tr>\n",
       "    <tr>\n",
       "      <th>25%</th>\n",
       "      <td>4.000000</td>\n",
       "      <td>0.000000</td>\n",
       "      <td>0.000000</td>\n",
       "    </tr>\n",
       "    <tr>\n",
       "      <th>50%</th>\n",
       "      <td>5.000000</td>\n",
       "      <td>0.000000</td>\n",
       "      <td>1.000000</td>\n",
       "    </tr>\n",
       "    <tr>\n",
       "      <th>75%</th>\n",
       "      <td>5.000000</td>\n",
       "      <td>0.000000</td>\n",
       "      <td>1.000000</td>\n",
       "    </tr>\n",
       "    <tr>\n",
       "      <th>max</th>\n",
       "      <td>5.000000</td>\n",
       "      <td>2.000000</td>\n",
       "      <td>1.000000</td>\n",
       "    </tr>\n",
       "  </tbody>\n",
       "</table>\n",
       "</div>"
      ],
      "text/plain": [
       "       star_rating  total_votes         nps\n",
       "count   235.000000   235.000000  235.000000\n",
       "mean      4.165957     0.072340    0.336170\n",
       "std       1.174020     0.290668    0.822864\n",
       "min       1.000000     0.000000   -1.000000\n",
       "25%       4.000000     0.000000    0.000000\n",
       "50%       5.000000     0.000000    1.000000\n",
       "75%       5.000000     0.000000    1.000000\n",
       "max       5.000000     2.000000    1.000000"
      ]
     },
     "execution_count": 11,
     "metadata": {},
     "output_type": "execute_result"
    }
   ],
   "source": [
    "df_product.describe()"
   ]
  },
  {
   "cell_type": "code",
   "execution_count": 12,
   "metadata": {},
   "outputs": [
    {
     "name": "stdout",
     "output_type": "stream",
     "text": [
      "Mean Star Rating: 4.165957446808511\n",
      "Median Star Rating: 5.0\n"
     ]
    },
    {
     "data": {
      "image/png": "[encoded data removed]",
      "text/plain": [
       "<Figure size 432x288 with 1 Axes>"
      ]
     },
     "metadata": {
      "needs_background": "light"
     },
     "output_type": "display_data"
    }
   ],
   "source": [
    "df_product.star_rating.hist()\n",
    "\n",
    "print(\"Mean Star Rating:\", df_product.star_rating.mean())\n",
    "print(\"Median Star Rating:\", df_product.star_rating.median())"
   ]
  },
  {
   "cell_type": "code",
   "execution_count": 13,
   "metadata": {},
   "outputs": [
    {
     "name": "stdout",
     "output_type": "stream",
     "text": [
      "Mean NPS Rating: 0.33617021276595743\n",
      "Median NPS Rating: 1.0\n"
     ]
    },
    {
     "data": {
      "image/png": "[encoded data removed]",
      "text/plain": [
       "<Figure size 432x288 with 1 Axes>"
      ]
     },
     "metadata": {
      "needs_background": "light"
     },
     "output_type": "display_data"
    }
   ],
   "source": [
    "df_product.nps.hist()\n",
    "\n",
    "print(\"Mean NPS Rating:\", df_product.nps.mean())\n",
    "print(\"Median NPS Rating:\", df_product.nps.median())"
   ]
  },
  {
   "cell_type": "markdown",
   "metadata": {},
   "source": [
    "#### Text Pre-processing:\n",
    "\n",
    "The text data are processed with spaCy and loaded to a new column. The functions `alphanumeric` and `punc_lower` remove unwanted punctuation and convert text to lowercase, respectively."
   ]
  },
  {
   "cell_type": "code",
   "execution_count": 14,
   "metadata": {},
   "outputs": [
    {
     "name": "stderr",
     "output_type": "stream",
     "text": [
      "/home/ubuntu/anaconda3/lib/python3.7/site-packages/ipykernel_launcher.py:18: SettingWithCopyWarning: \n",
      "A value is trying to be set on a copy of a slice from a DataFrame.\n",
      "Try using .loc[row_indexer,col_indexer] = value instead\n",
      "\n",
      "See the caveats in the documentation: http://pandas.pydata.org/pandas-docs/stable/indexing.html#indexing-view-versus-copy\n"
     ]
    },
    {
     "name": "stdout",
     "output_type": "stream",
     "text": [
      "235 documents processed with Spacy\n",
      "\n",
      "NLTK processing complete.\n"
     ]
    },
    {
     "name": "stderr",
     "output_type": "stream",
     "text": [
      "/home/ubuntu/anaconda3/lib/python3.7/site-packages/ipykernel_launcher.py:32: SettingWithCopyWarning: \n",
      "A value is trying to be set on a copy of a slice from a DataFrame.\n",
      "Try using .loc[row_indexer,col_indexer] = value instead\n",
      "\n",
      "See the caveats in the documentation: http://pandas.pydata.org/pandas-docs/stable/indexing.html#indexing-view-versus-copy\n",
      "/home/ubuntu/anaconda3/lib/python3.7/site-packages/ipykernel_launcher.py:37: SettingWithCopyWarning: \n",
      "A value is trying to be set on a copy of a slice from a DataFrame.\n",
      "Try using .loc[row_indexer,col_indexer] = value instead\n",
      "\n",
      "See the caveats in the documentation: http://pandas.pydata.org/pandas-docs/stable/indexing.html#indexing-view-versus-copy\n",
      "/home/ubuntu/anaconda3/lib/python3.7/site-packages/ipykernel_launcher.py:39: SettingWithCopyWarning: \n",
      "A value is trying to be set on a copy of a slice from a DataFrame.\n",
      "Try using .loc[row_indexer,col_indexer] = value instead\n",
      "\n",
      "See the caveats in the documentation: http://pandas.pydata.org/pandas-docs/stable/indexing.html#indexing-view-versus-copy\n"
     ]
    },
    {
     "data": {
      "text/html": [
       "<div>\n",
       "<style scoped>\n",
       "    .dataframe tbody tr th:only-of-type {\n",
       "        vertical-align: middle;\n",
       "    }\n",
       "\n",
       "    .dataframe tbody tr th {\n",
       "        vertical-align: top;\n",
       "    }\n",
       "\n",
       "    .dataframe thead th {\n",
       "        text-align: right;\n",
       "    }\n",
       "</style>\n",
       "<table border=\"1\" class=\"dataframe\">\n",
       "  <thead>\n",
       "    <tr style=\"text-align: right;\">\n",
       "      <th></th>\n",
       "      <th>product_id</th>\n",
       "      <th>product_title</th>\n",
       "      <th>review_body</th>\n",
       "      <th>review_headline</th>\n",
       "      <th>star_rating</th>\n",
       "      <th>total_votes</th>\n",
       "      <th>verified_purchase</th>\n",
       "      <th>vine</th>\n",
       "      <th>nps</th>\n",
       "      <th>review_body_spacy</th>\n",
       "      <th>nltk_terms</th>\n",
       "    </tr>\n",
       "  </thead>\n",
       "  <tbody>\n",
       "    <tr>\n",
       "      <th>615</th>\n",
       "      <td>B00F5NE2KG</td>\n",
       "      <td>Bluetooth Speaker, DKnight Magicbox Ultra-Port...</td>\n",
       "      <td>Nice sound. It cuts out from time to time and ...</td>\n",
       "      <td>Nice sound. It cuts out from time to time ...</td>\n",
       "      <td>4</td>\n",
       "      <td>0</td>\n",
       "      <td>Y</td>\n",
       "      <td>N</td>\n",
       "      <td>0</td>\n",
       "      <td>(Nice, sound, ., It, cuts, out, from, time, to...</td>\n",
       "      <td>nice sound  cut time time occasionally stop pl...</td>\n",
       "    </tr>\n",
       "    <tr>\n",
       "      <th>922</th>\n",
       "      <td>B00F5NE2KG</td>\n",
       "      <td>Bluetooth Speaker, DKnight Magicbox Ultra-Port...</td>\n",
       "      <td>The sound is pretty good; most important; it w...</td>\n",
       "      <td>A 100% compatible!!</td>\n",
       "      <td>5</td>\n",
       "      <td>0</td>\n",
       "      <td>Y</td>\n",
       "      <td>N</td>\n",
       "      <td>1</td>\n",
       "      <td>(The, sound, is, pretty, good, ;, most, import...</td>\n",
       "      <td>sound pretty good  important  work blackberry ...</td>\n",
       "    </tr>\n",
       "    <tr>\n",
       "      <th>965</th>\n",
       "      <td>B00F5NE2KG</td>\n",
       "      <td>Bluetooth Speaker, DKnight Magicbox Ultra-Port...</td>\n",
       "      <td>Very impressed with the sound quality of this ...</td>\n",
       "      <td>It is a convenient size for travel and I love it!</td>\n",
       "      <td>5</td>\n",
       "      <td>0</td>\n",
       "      <td>Y</td>\n",
       "      <td>N</td>\n",
       "      <td>1</td>\n",
       "      <td>(Very, impressed, with, the, sound, quality, o...</td>\n",
       "      <td>sound quality device  convenient size travel l...</td>\n",
       "    </tr>\n",
       "    <tr>\n",
       "      <th>1019</th>\n",
       "      <td>B00F5NE2KG</td>\n",
       "      <td>Bluetooth Speaker, DKnight Magicbox Ultra-Port...</td>\n",
       "      <td>Sound is ok. Main issue it constant Dropping o...</td>\n",
       "      <td>Connectivity Issues, Ok Sound.</td>\n",
       "      <td>1</td>\n",
       "      <td>0</td>\n",
       "      <td>Y</td>\n",
       "      <td>N</td>\n",
       "      <td>-1</td>\n",
       "      <td>(Sound, is, ok, ., Main, issue, it, constant, ...</td>\n",
       "      <td>sound  main issue constant dropping connection...</td>\n",
       "    </tr>\n",
       "    <tr>\n",
       "      <th>1047</th>\n",
       "      <td>B00F5NE2KG</td>\n",
       "      <td>Bluetooth Speaker, DKnight Magicbox Ultra-Port...</td>\n",
       "      <td>Love this little guy. good sound and battery l...</td>\n",
       "      <td>In love!</td>\n",
       "      <td>4</td>\n",
       "      <td>0</td>\n",
       "      <td>Y</td>\n",
       "      <td>N</td>\n",
       "      <td>0</td>\n",
       "      <td>(Love, this, little, guy, ., good, sound, and,...</td>\n",
       "      <td>love little guy  good sound battery life  rang...</td>\n",
       "    </tr>\n",
       "  </tbody>\n",
       "</table>\n",
       "</div>"
      ],
      "text/plain": [
       "      product_id                                      product_title  \\\n",
       "615   B00F5NE2KG  Bluetooth Speaker, DKnight Magicbox Ultra-Port...   \n",
       "922   B00F5NE2KG  Bluetooth Speaker, DKnight Magicbox Ultra-Port...   \n",
       "965   B00F5NE2KG  Bluetooth Speaker, DKnight Magicbox Ultra-Port...   \n",
       "1019  B00F5NE2KG  Bluetooth Speaker, DKnight Magicbox Ultra-Port...   \n",
       "1047  B00F5NE2KG  Bluetooth Speaker, DKnight Magicbox Ultra-Port...   \n",
       "\n",
       "                                            review_body  \\\n",
       "615   Nice sound. It cuts out from time to time and ...   \n",
       "922   The sound is pretty good; most important; it w...   \n",
       "965   Very impressed with the sound quality of this ...   \n",
       "1019  Sound is ok. Main issue it constant Dropping o...   \n",
       "1047  Love this little guy. good sound and battery l...   \n",
       "\n",
       "                                        review_headline  star_rating  \\\n",
       "615       Nice sound. It cuts out from time to time ...            4   \n",
       "922                                 A 100% compatible!!            5   \n",
       "965   It is a convenient size for travel and I love it!            5   \n",
       "1019                     Connectivity Issues, Ok Sound.            1   \n",
       "1047                                           In love!            4   \n",
       "\n",
       "      total_votes verified_purchase vine  nps  \\\n",
       "615             0                 Y    N    0   \n",
       "922             0                 Y    N    1   \n",
       "965             0                 Y    N    1   \n",
       "1019            0                 Y    N   -1   \n",
       "1047            0                 Y    N    0   \n",
       "\n",
       "                                      review_body_spacy  \\\n",
       "615   (Nice, sound, ., It, cuts, out, from, time, to...   \n",
       "922   (The, sound, is, pretty, good, ;, most, import...   \n",
       "965   (Very, impressed, with, the, sound, quality, o...   \n",
       "1019  (Sound, is, ok, ., Main, issue, it, constant, ...   \n",
       "1047  (Love, this, little, guy, ., good, sound, and,...   \n",
       "\n",
       "                                             nltk_terms  \n",
       "615   nice sound  cut time time occasionally stop pl...  \n",
       "922   sound pretty good  important  work blackberry ...  \n",
       "965   sound quality device  convenient size travel l...  \n",
       "1019  sound  main issue constant dropping connection...  \n",
       "1047  love little guy  good sound battery life  rang...  "
      ]
     },
     "execution_count": 14,
     "metadata": {},
     "output_type": "execute_result"
    }
   ],
   "source": [
    "nlp = spacy.load('/home/ubuntu/anaconda3/lib/python3.7/site-packages/en_core_web_sm/en_core_web_sm-2.1.0/')\n",
    "\n",
    "stop_words = spacy.lang.en.stop_words.STOP_WORDS\n",
    "stop_words.update(['-PRON-', 'pron', 'br', '<br/>', '<br />', '<br>', '<br', 'br>', '</br', 'br/>', '<br /><br />', 'use', 'like', '/br', 'br/'])\n",
    "\n",
    "# Prepare data to process with Spacy:\n",
    "\n",
    "list_of_spacy = []\n",
    "\n",
    "for document in nlp.pipe(df_product.review_body, n_threads = -1):\n",
    "    try:\n",
    "        list_of_spacy.append(document)\n",
    "        \n",
    "    except:\n",
    "        list_of_spacy.append('bad_doc')\n",
    "        print('bad doc:', document)\n",
    "    \n",
    "df_product['review_body_spacy'] = list_of_spacy\n",
    "\n",
    "print(f'{len(list_of_spacy)} documents processed with Spacy\\n')\n",
    "\n",
    "# pre-process text with NLTK for Corex:\n",
    "\n",
    "alphanumeric = lambda x: re.sub(r'<[^>]*>\\w*\\d\\w*', '', x)\n",
    "punc_lower = lambda x: re.sub('[%s]' % re.escape(string.punctuation), '', x.lower())\n",
    "\n",
    "words = set(nltk.corpus.words.words())\n",
    "\n",
    "nltk_list = []\n",
    "\n",
    "df_product['cleaned_review_body_text'] = df_product['review_body_spacy'].apply\\\n",
    "(lambda x: ' '.join([ele.lemma_ for ele in x if ele.lemma_ not in stop_words and ele not in stop_words]))\n",
    "\n",
    "for row in df_product['cleaned_review_body_text']:\n",
    "    nltk_list.append(' '.join(w for w in nltk.wordpunct_tokenize(row) if w.lower() in words or not w.isalpha()))\n",
    "    \n",
    "df_product['nltk_terms'] = nltk_list\n",
    "\n",
    "df_product['nltk_terms'] = df_product['nltk_terms'].map(alphanumeric).map(punc_lower)\n",
    "\n",
    "df_product = df_product.drop(columns = ['cleaned_review_body_text'])\n",
    "\n",
    "print('NLTK processing complete.')\n",
    "\n",
    "df_product.head()"
   ]
  },
  {
   "cell_type": "code",
   "execution_count": null,
   "metadata": {},
   "outputs": [],
   "source": []
  },
  {
   "cell_type": "markdown",
   "metadata": {},
   "source": [
    "#### NLP Hypothesis Test:\n",
    "\n",
    "Before delving into a protracted NLP analysis to find fidelity in language where the ratings have disappointed, it is important to determine whether a general correlation between product reviews and ratings exists. \n",
    "\n",
    "This will be accomplished by applying classification to a Bag-of-Words model, specifically using CountVectorizer and Logistic Regression. "
   ]
  },
  {
   "cell_type": "code",
   "execution_count": 15,
   "metadata": {},
   "outputs": [
    {
     "data": {
      "text/html": [
       "<div>\n",
       "<style scoped>\n",
       "    .dataframe tbody tr th:only-of-type {\n",
       "        vertical-align: middle;\n",
       "    }\n",
       "\n",
       "    .dataframe tbody tr th {\n",
       "        vertical-align: top;\n",
       "    }\n",
       "\n",
       "    .dataframe thead th {\n",
       "        text-align: right;\n",
       "    }\n",
       "</style>\n",
       "<table border=\"1\" class=\"dataframe\">\n",
       "  <thead>\n",
       "    <tr style=\"text-align: right;\">\n",
       "      <th></th>\n",
       "      <th>review_body</th>\n",
       "      <th>nps</th>\n",
       "    </tr>\n",
       "  </thead>\n",
       "  <tbody>\n",
       "    <tr>\n",
       "      <th>0</th>\n",
       "      <td>As described.</td>\n",
       "      <td>1</td>\n",
       "    </tr>\n",
       "    <tr>\n",
       "      <th>1</th>\n",
       "      <td>It works as advertising.</td>\n",
       "      <td>1</td>\n",
       "    </tr>\n",
       "    <tr>\n",
       "      <th>2</th>\n",
       "      <td>Works pissa</td>\n",
       "      <td>1</td>\n",
       "    </tr>\n",
       "    <tr>\n",
       "      <th>3</th>\n",
       "      <td>Did not work at all.</td>\n",
       "      <td>-1</td>\n",
       "    </tr>\n",
       "    <tr>\n",
       "      <th>4</th>\n",
       "      <td>Works well. Bass is somewhat lacking but is pr...</td>\n",
       "      <td>1</td>\n",
       "    </tr>\n",
       "  </tbody>\n",
       "</table>\n",
       "</div>"
      ],
      "text/plain": [
       "                                         review_body  nps\n",
       "0                                      As described.    1\n",
       "1                           It works as advertising.    1\n",
       "2                                        Works pissa    1\n",
       "3                               Did not work at all.   -1\n",
       "4  Works well. Bass is somewhat lacking but is pr...    1"
      ]
     },
     "execution_count": 15,
     "metadata": {},
     "output_type": "execute_result"
    }
   ],
   "source": [
    "# create a new dataframe with review body text and nps:\n",
    "\n",
    "df2 = df[['review_body', 'nps']]\n",
    "df2 = df2.drop(df2[df2.nps == 0].index) # remove neutral rating (4 stars) for binary classification\n",
    "df2.head()"
   ]
  },
  {
   "cell_type": "code",
   "execution_count": 36,
   "metadata": {},
   "outputs": [
    {
     "data": {
      "text/html": [
       "<div>\n",
       "<style scoped>\n",
       "    .dataframe tbody tr th:only-of-type {\n",
       "        vertical-align: middle;\n",
       "    }\n",
       "\n",
       "    .dataframe tbody tr th {\n",
       "        vertical-align: top;\n",
       "    }\n",
       "\n",
       "    .dataframe thead th {\n",
       "        text-align: right;\n",
       "    }\n",
       "</style>\n",
       "<table border=\"1\" class=\"dataframe\">\n",
       "  <thead>\n",
       "    <tr style=\"text-align: right;\">\n",
       "      <th></th>\n",
       "      <th>aa</th>\n",
       "      <th>aaa</th>\n",
       "      <th>aaaa</th>\n",
       "      <th>aaaaa</th>\n",
       "      <th>aaaaaa</th>\n",
       "      <th>aaaaaaaaa</th>\n",
       "      <th>aaaaaannnnnngggggggggggggggg</th>\n",
       "      <th>aaas</th>\n",
       "      <th>aac</th>\n",
       "      <th>aacs</th>\n",
       "      <th>...</th>\n",
       "      <th>zoro</th>\n",
       "      <th>zowie</th>\n",
       "      <th>zte</th>\n",
       "      <th>zumba</th>\n",
       "      <th>zune</th>\n",
       "      <th>zuzevich</th>\n",
       "      <th>zvox</th>\n",
       "      <th>zwave</th>\n",
       "      <th>zx</th>\n",
       "      <th>zy</th>\n",
       "    </tr>\n",
       "  </thead>\n",
       "  <tbody>\n",
       "    <tr>\n",
       "      <th>0</th>\n",
       "      <td>0</td>\n",
       "      <td>0</td>\n",
       "      <td>0</td>\n",
       "      <td>0</td>\n",
       "      <td>0</td>\n",
       "      <td>0</td>\n",
       "      <td>0</td>\n",
       "      <td>0</td>\n",
       "      <td>0</td>\n",
       "      <td>0</td>\n",
       "      <td>...</td>\n",
       "      <td>0</td>\n",
       "      <td>0</td>\n",
       "      <td>0</td>\n",
       "      <td>0</td>\n",
       "      <td>0</td>\n",
       "      <td>0</td>\n",
       "      <td>0</td>\n",
       "      <td>0</td>\n",
       "      <td>0</td>\n",
       "      <td>0</td>\n",
       "    </tr>\n",
       "    <tr>\n",
       "      <th>1</th>\n",
       "      <td>0</td>\n",
       "      <td>0</td>\n",
       "      <td>0</td>\n",
       "      <td>0</td>\n",
       "      <td>0</td>\n",
       "      <td>0</td>\n",
       "      <td>0</td>\n",
       "      <td>0</td>\n",
       "      <td>0</td>\n",
       "      <td>0</td>\n",
       "      <td>...</td>\n",
       "      <td>0</td>\n",
       "      <td>0</td>\n",
       "      <td>0</td>\n",
       "      <td>0</td>\n",
       "      <td>0</td>\n",
       "      <td>0</td>\n",
       "      <td>0</td>\n",
       "      <td>0</td>\n",
       "      <td>0</td>\n",
       "      <td>0</td>\n",
       "    </tr>\n",
       "    <tr>\n",
       "      <th>2</th>\n",
       "      <td>0</td>\n",
       "      <td>0</td>\n",
       "      <td>0</td>\n",
       "      <td>0</td>\n",
       "      <td>0</td>\n",
       "      <td>0</td>\n",
       "      <td>0</td>\n",
       "      <td>0</td>\n",
       "      <td>0</td>\n",
       "      <td>0</td>\n",
       "      <td>...</td>\n",
       "      <td>0</td>\n",
       "      <td>0</td>\n",
       "      <td>0</td>\n",
       "      <td>0</td>\n",
       "      <td>0</td>\n",
       "      <td>0</td>\n",
       "      <td>0</td>\n",
       "      <td>0</td>\n",
       "      <td>0</td>\n",
       "      <td>0</td>\n",
       "    </tr>\n",
       "    <tr>\n",
       "      <th>3</th>\n",
       "      <td>0</td>\n",
       "      <td>0</td>\n",
       "      <td>0</td>\n",
       "      <td>0</td>\n",
       "      <td>0</td>\n",
       "      <td>0</td>\n",
       "      <td>0</td>\n",
       "      <td>0</td>\n",
       "      <td>0</td>\n",
       "      <td>0</td>\n",
       "      <td>...</td>\n",
       "      <td>0</td>\n",
       "      <td>0</td>\n",
       "      <td>0</td>\n",
       "      <td>0</td>\n",
       "      <td>0</td>\n",
       "      <td>0</td>\n",
       "      <td>0</td>\n",
       "      <td>0</td>\n",
       "      <td>0</td>\n",
       "      <td>0</td>\n",
       "    </tr>\n",
       "    <tr>\n",
       "      <th>4</th>\n",
       "      <td>0</td>\n",
       "      <td>0</td>\n",
       "      <td>0</td>\n",
       "      <td>0</td>\n",
       "      <td>0</td>\n",
       "      <td>0</td>\n",
       "      <td>0</td>\n",
       "      <td>0</td>\n",
       "      <td>0</td>\n",
       "      <td>0</td>\n",
       "      <td>...</td>\n",
       "      <td>0</td>\n",
       "      <td>0</td>\n",
       "      <td>0</td>\n",
       "      <td>0</td>\n",
       "      <td>0</td>\n",
       "      <td>0</td>\n",
       "      <td>0</td>\n",
       "      <td>0</td>\n",
       "      <td>0</td>\n",
       "      <td>0</td>\n",
       "    </tr>\n",
       "  </tbody>\n",
       "</table>\n",
       "<p>5 rows × 19034 columns</p>\n",
       "</div>"
      ],
      "text/plain": [
       "   aa  aaa  aaaa  aaaaa  aaaaaa  aaaaaaaaa  aaaaaannnnnngggggggggggggggg  \\\n",
       "0   0    0     0      0       0          0                             0   \n",
       "1   0    0     0      0       0          0                             0   \n",
       "2   0    0     0      0       0          0                             0   \n",
       "3   0    0     0      0       0          0                             0   \n",
       "4   0    0     0      0       0          0                             0   \n",
       "\n",
       "   aaas  aac  aacs  ...  zoro  zowie  zte  zumba  zune  zuzevich  zvox  zwave  \\\n",
       "0     0    0     0  ...     0      0    0      0     0         0     0      0   \n",
       "1     0    0     0  ...     0      0    0      0     0         0     0      0   \n",
       "2     0    0     0  ...     0      0    0      0     0         0     0      0   \n",
       "3     0    0     0  ...     0      0    0      0     0         0     0      0   \n",
       "4     0    0     0  ...     0      0    0      0     0         0     0      0   \n",
       "\n",
       "   zx  zy  \n",
       "0   0   0  \n",
       "1   0   0  \n",
       "2   0   0  \n",
       "3   0   0  \n",
       "4   0   0  \n",
       "\n",
       "[5 rows x 19034 columns]"
      ]
     },
     "execution_count": 36,
     "metadata": {},
     "output_type": "execute_result"
    }
   ],
   "source": [
    "# define features & labels:\n",
    "\n",
    "X = df2.review_body.values.astype('unicode')\n",
    "y = df2.nps\n",
    "\n",
    "# split into training / test sets:\n",
    "\n",
    "X_train, X_test, y_train, y_test = train_test_split(X, y, test_size=0.3, random_state=42)\n",
    "\n",
    "# The first document-term matrix has default Count Vectorizer values - counts of unigrams:\n",
    "\n",
    "cv1 = CountVectorizer(max_features=20000, stop_words='english', token_pattern=\"\\\\b[a-z][a-z]+\\\\b\", binary=True)\n",
    "\n",
    "X_train_cv1 = cv1.fit_transform(X_train)\n",
    "X_test_cv1  = cv1.transform(X_test)\n",
    "\n",
    "pd.DataFrame(X_train_cv1.toarray(), columns=cv1.get_feature_names()).head()"
   ]
  },
  {
   "cell_type": "code",
   "execution_count": 37,
   "metadata": {},
   "outputs": [
    {
     "data": {
      "text/html": [
       "<div>\n",
       "<style scoped>\n",
       "    .dataframe tbody tr th:only-of-type {\n",
       "        vertical-align: middle;\n",
       "    }\n",
       "\n",
       "    .dataframe tbody tr th {\n",
       "        vertical-align: top;\n",
       "    }\n",
       "\n",
       "    .dataframe thead th {\n",
       "        text-align: right;\n",
       "    }\n",
       "</style>\n",
       "<table border=\"1\" class=\"dataframe\">\n",
       "  <thead>\n",
       "    <tr style=\"text-align: right;\">\n",
       "      <th></th>\n",
       "      <th>aa</th>\n",
       "      <th>aa aaa</th>\n",
       "      <th>aa batteries</th>\n",
       "      <th>aa battery</th>\n",
       "      <th>aaa</th>\n",
       "      <th>aaa batteries</th>\n",
       "      <th>aaa battery</th>\n",
       "      <th>aac</th>\n",
       "      <th>abc</th>\n",
       "      <th>abc cbs</th>\n",
       "      <th>...</th>\n",
       "      <th>zero stars</th>\n",
       "      <th>zip</th>\n",
       "      <th>zip ties</th>\n",
       "      <th>zipbuds</th>\n",
       "      <th>zipper</th>\n",
       "      <th>zippered</th>\n",
       "      <th>zips</th>\n",
       "      <th>zone</th>\n",
       "      <th>zones</th>\n",
       "      <th>zune</th>\n",
       "    </tr>\n",
       "  </thead>\n",
       "  <tbody>\n",
       "    <tr>\n",
       "      <th>0</th>\n",
       "      <td>0</td>\n",
       "      <td>0</td>\n",
       "      <td>0</td>\n",
       "      <td>0</td>\n",
       "      <td>0</td>\n",
       "      <td>0</td>\n",
       "      <td>0</td>\n",
       "      <td>0</td>\n",
       "      <td>0</td>\n",
       "      <td>0</td>\n",
       "      <td>...</td>\n",
       "      <td>0</td>\n",
       "      <td>0</td>\n",
       "      <td>0</td>\n",
       "      <td>0</td>\n",
       "      <td>0</td>\n",
       "      <td>0</td>\n",
       "      <td>0</td>\n",
       "      <td>0</td>\n",
       "      <td>0</td>\n",
       "      <td>0</td>\n",
       "    </tr>\n",
       "    <tr>\n",
       "      <th>1</th>\n",
       "      <td>0</td>\n",
       "      <td>0</td>\n",
       "      <td>0</td>\n",
       "      <td>0</td>\n",
       "      <td>0</td>\n",
       "      <td>0</td>\n",
       "      <td>0</td>\n",
       "      <td>0</td>\n",
       "      <td>0</td>\n",
       "      <td>0</td>\n",
       "      <td>...</td>\n",
       "      <td>0</td>\n",
       "      <td>0</td>\n",
       "      <td>0</td>\n",
       "      <td>0</td>\n",
       "      <td>0</td>\n",
       "      <td>0</td>\n",
       "      <td>0</td>\n",
       "      <td>0</td>\n",
       "      <td>0</td>\n",
       "      <td>0</td>\n",
       "    </tr>\n",
       "    <tr>\n",
       "      <th>2</th>\n",
       "      <td>0</td>\n",
       "      <td>0</td>\n",
       "      <td>0</td>\n",
       "      <td>0</td>\n",
       "      <td>0</td>\n",
       "      <td>0</td>\n",
       "      <td>0</td>\n",
       "      <td>0</td>\n",
       "      <td>0</td>\n",
       "      <td>0</td>\n",
       "      <td>...</td>\n",
       "      <td>0</td>\n",
       "      <td>0</td>\n",
       "      <td>0</td>\n",
       "      <td>0</td>\n",
       "      <td>0</td>\n",
       "      <td>0</td>\n",
       "      <td>0</td>\n",
       "      <td>0</td>\n",
       "      <td>0</td>\n",
       "      <td>0</td>\n",
       "    </tr>\n",
       "    <tr>\n",
       "      <th>3</th>\n",
       "      <td>0</td>\n",
       "      <td>0</td>\n",
       "      <td>0</td>\n",
       "      <td>0</td>\n",
       "      <td>0</td>\n",
       "      <td>0</td>\n",
       "      <td>0</td>\n",
       "      <td>0</td>\n",
       "      <td>0</td>\n",
       "      <td>0</td>\n",
       "      <td>...</td>\n",
       "      <td>0</td>\n",
       "      <td>0</td>\n",
       "      <td>0</td>\n",
       "      <td>0</td>\n",
       "      <td>0</td>\n",
       "      <td>0</td>\n",
       "      <td>0</td>\n",
       "      <td>0</td>\n",
       "      <td>0</td>\n",
       "      <td>0</td>\n",
       "    </tr>\n",
       "    <tr>\n",
       "      <th>4</th>\n",
       "      <td>0</td>\n",
       "      <td>0</td>\n",
       "      <td>0</td>\n",
       "      <td>0</td>\n",
       "      <td>0</td>\n",
       "      <td>0</td>\n",
       "      <td>0</td>\n",
       "      <td>0</td>\n",
       "      <td>0</td>\n",
       "      <td>0</td>\n",
       "      <td>...</td>\n",
       "      <td>0</td>\n",
       "      <td>0</td>\n",
       "      <td>0</td>\n",
       "      <td>0</td>\n",
       "      <td>0</td>\n",
       "      <td>0</td>\n",
       "      <td>0</td>\n",
       "      <td>0</td>\n",
       "      <td>0</td>\n",
       "      <td>0</td>\n",
       "    </tr>\n",
       "  </tbody>\n",
       "</table>\n",
       "<p>5 rows × 20000 columns</p>\n",
       "</div>"
      ],
      "text/plain": [
       "   aa  aa aaa  aa batteries  aa battery  aaa  aaa batteries  aaa battery  aac  \\\n",
       "0   0       0             0           0    0              0            0    0   \n",
       "1   0       0             0           0    0              0            0    0   \n",
       "2   0       0             0           0    0              0            0    0   \n",
       "3   0       0             0           0    0              0            0    0   \n",
       "4   0       0             0           0    0              0            0    0   \n",
       "\n",
       "   abc  abc cbs  ...  zero stars  zip  zip ties  zipbuds  zipper  zippered  \\\n",
       "0    0        0  ...           0    0         0        0       0         0   \n",
       "1    0        0  ...           0    0         0        0       0         0   \n",
       "2    0        0  ...           0    0         0        0       0         0   \n",
       "3    0        0  ...           0    0         0        0       0         0   \n",
       "4    0        0  ...           0    0         0        0       0         0   \n",
       "\n",
       "   zips  zone  zones  zune  \n",
       "0     0     0      0     0  \n",
       "1     0     0      0     0  \n",
       "2     0     0      0     0  \n",
       "3     0     0      0     0  \n",
       "4     0     0      0     0  \n",
       "\n",
       "[5 rows x 20000 columns]"
      ]
     },
     "execution_count": 37,
     "metadata": {},
     "output_type": "execute_result"
    }
   ],
   "source": [
    "# Create a second document-term matrix has both unigrams and bigrams, and indicators instead of counts:\n",
    "\n",
    "cv2 = CountVectorizer(max_features=20000, stop_words='english', ngram_range=(1,2), token_pattern=\"\\\\b[a-z][a-z]+\\\\b\", binary=True)\n",
    "                    \n",
    "X_train_cv2 = cv2.fit_transform(X_train)\n",
    "X_test_cv2  = cv2.transform(X_test)\n",
    "\n",
    "pd.DataFrame(X_train_cv2.toarray(), columns=cv2.get_feature_names()).head()"
   ]
  },
  {
   "cell_type": "code",
   "execution_count": 38,
   "metadata": {},
   "outputs": [
    {
     "name": "stderr",
     "output_type": "stream",
     "text": [
      "/home/ubuntu/anaconda3/lib/python3.7/site-packages/sklearn/linear_model/logistic.py:432: FutureWarning: Default solver will be changed to 'lbfgs' in 0.22. Specify a solver to silence this warning.\n",
      "  FutureWarning)\n"
     ]
    }
   ],
   "source": [
    "# Create a logistic regression model to use\n",
    "lr = LogisticRegression()\n",
    "\n",
    "# Train the first model\n",
    "lr.fit(X_train_cv1, y_train)\n",
    "y_pred_cv1 = lr.predict(X_test_cv1)\n",
    "\n",
    "\n",
    "# Train the second model\n",
    "lr.fit(X_train_cv2, y_train)\n",
    "y_pred_cv2 = lr.predict(X_test_cv2)"
   ]
  },
  {
   "cell_type": "code",
   "execution_count": 39,
   "metadata": {},
   "outputs": [],
   "source": [
    "# Create a function to calculate the error metrics, since we'll be doing this several times\n",
    "\n",
    "def conf_matrix(actual, predicted):\n",
    "    cm = confusion_matrix(actual, predicted)\n",
    "    sns.heatmap(cm, xticklabels=['predicted_negative', 'predicted_positive'], \n",
    "                yticklabels=['actual_negative', 'actual_positive'], annot=True,\n",
    "                fmt='d', annot_kws={'fontsize':20}, cmap=\"YlGnBu\");\n",
    "\n",
    "    true_neg, false_pos = cm[0]\n",
    "    false_neg, true_pos = cm[1]\n",
    "\n",
    "    accuracy = round((true_pos + true_neg) / (true_pos + true_neg + false_pos + false_neg),3)\n",
    "    precision = round((true_pos) / (true_pos + false_pos),3)\n",
    "    recall = round((true_pos) / (true_pos + false_neg),3)\n",
    "    f1 = round(2 * (precision * recall) / (precision + recall),3)\n",
    "\n",
    "    cm_results = [accuracy, precision, recall, f1]\n",
    "    return cm_results"
   ]
  },
  {
   "cell_type": "markdown",
   "metadata": {},
   "source": [
    "#### Results:\n",
    "\n",
    "The supervised learning trial confirms a strong connection between reviews and ratings with all metrics above 90% and F1 scores nearing 94%."
   ]
  },
  {
   "cell_type": "code",
   "execution_count": 40,
   "metadata": {},
   "outputs": [
    {
     "data": {
      "image/png": "[encoded data removed]",
      "text/plain": [
       "<Figure size 432x288 with 2 Axes>"
      ]
     },
     "metadata": {
      "needs_background": "light"
     },
     "output_type": "display_data"
    }
   ],
   "source": [
    "# Heat map for the first logistic regression model:\n",
    "\n",
    "cm1 = conf_matrix(y_test, y_pred_cv1)"
   ]
  },
  {
   "cell_type": "code",
   "execution_count": 41,
   "metadata": {},
   "outputs": [
    {
     "data": {
      "image/png": "[encoded data removed]",
      "text/plain": [
       "<Figure size 432x288 with 2 Axes>"
      ]
     },
     "metadata": {
      "needs_background": "light"
     },
     "output_type": "display_data"
    }
   ],
   "source": [
    "# Heat map for the second logistic regression model\n",
    "\n",
    "cm2 = conf_matrix(y_test, y_pred_cv2)"
   ]
  },
  {
   "cell_type": "code",
   "execution_count": 42,
   "metadata": {},
   "outputs": [
    {
     "data": {
      "text/html": [
       "<div>\n",
       "<style scoped>\n",
       "    .dataframe tbody tr th:only-of-type {\n",
       "        vertical-align: middle;\n",
       "    }\n",
       "\n",
       "    .dataframe tbody tr th {\n",
       "        vertical-align: top;\n",
       "    }\n",
       "\n",
       "    .dataframe thead th {\n",
       "        text-align: right;\n",
       "    }\n",
       "</style>\n",
       "<table border=\"1\" class=\"dataframe\">\n",
       "  <thead>\n",
       "    <tr style=\"text-align: right;\">\n",
       "      <th></th>\n",
       "      <th>LogReg1</th>\n",
       "      <th>LogReg2</th>\n",
       "    </tr>\n",
       "  </thead>\n",
       "  <tbody>\n",
       "    <tr>\n",
       "      <th>Accuracy</th>\n",
       "      <td>0.891</td>\n",
       "      <td>0.896</td>\n",
       "    </tr>\n",
       "    <tr>\n",
       "      <th>Precision</th>\n",
       "      <td>0.905</td>\n",
       "      <td>0.908</td>\n",
       "    </tr>\n",
       "    <tr>\n",
       "      <th>Recall</th>\n",
       "      <td>0.949</td>\n",
       "      <td>0.953</td>\n",
       "    </tr>\n",
       "    <tr>\n",
       "      <th>F1 Score</th>\n",
       "      <td>0.926</td>\n",
       "      <td>0.930</td>\n",
       "    </tr>\n",
       "  </tbody>\n",
       "</table>\n",
       "</div>"
      ],
      "text/plain": [
       "           LogReg1  LogReg2\n",
       "Accuracy     0.891    0.896\n",
       "Precision    0.905    0.908\n",
       "Recall       0.949    0.953\n",
       "F1 Score     0.926    0.930"
      ]
     },
     "execution_count": 42,
     "metadata": {},
     "output_type": "execute_result"
    }
   ],
   "source": [
    "# Compare results:\n",
    "\n",
    "results = pd.DataFrame(list(zip(cm1, cm2)))\n",
    "results = results.set_index([['Accuracy', 'Precision', 'Recall', 'F1 Score']])\n",
    "results.columns = ['LogReg1', 'LogReg2']\n",
    "results"
   ]
  },
  {
   "cell_type": "markdown",
   "metadata": {},
   "source": [
    "#### VADER Sentiment Analysis:\n",
    "\n",
    "The star ratings & NPS data's extreme left skew exhibits a bias for 5 Star Ratings. How then does a product discern between those 5 Star Ratings from lethargic or generous customers and those reviews indicative of raving fans?\n",
    "\n",
    "The most enthusiastic fans were isolated from the \"5-Star by Default\" population using Valence Aware Dictionary and sEntiment Reasoner (VADER) Sentiment Analysis. A filter coupling VADER scores over 0.95 with an NPS Score of 1 (as a checksum for sarcasm) was then used to populate a dataframe comprised of our most satisfied customers. This process was then repeated with inverse parameters to isolate the least satisfied customers."
   ]
  },
  {
   "cell_type": "code",
   "execution_count": 43,
   "metadata": {},
   "outputs": [
    {
     "name": "stdout",
     "output_type": "stream",
     "text": [
      "created VADER scores for 235 rows\n",
      "\n"
     ]
    },
    {
     "data": {
      "text/html": [
       "<div>\n",
       "<style scoped>\n",
       "    .dataframe tbody tr th:only-of-type {\n",
       "        vertical-align: middle;\n",
       "    }\n",
       "\n",
       "    .dataframe tbody tr th {\n",
       "        vertical-align: top;\n",
       "    }\n",
       "\n",
       "    .dataframe thead th {\n",
       "        text-align: right;\n",
       "    }\n",
       "</style>\n",
       "<table border=\"1\" class=\"dataframe\">\n",
       "  <thead>\n",
       "    <tr style=\"text-align: right;\">\n",
       "      <th></th>\n",
       "      <th>product_id</th>\n",
       "      <th>product_title</th>\n",
       "      <th>review_body</th>\n",
       "      <th>review_headline</th>\n",
       "      <th>star_rating</th>\n",
       "      <th>total_votes</th>\n",
       "      <th>verified_purchase</th>\n",
       "      <th>vine</th>\n",
       "      <th>nps</th>\n",
       "      <th>review_body_spacy</th>\n",
       "      <th>nltk_terms</th>\n",
       "      <th>vader</th>\n",
       "    </tr>\n",
       "  </thead>\n",
       "  <tbody>\n",
       "    <tr>\n",
       "      <th>615</th>\n",
       "      <td>B00F5NE2KG</td>\n",
       "      <td>Bluetooth Speaker, DKnight Magicbox Ultra-Port...</td>\n",
       "      <td>Nice sound. It cuts out from time to time and ...</td>\n",
       "      <td>Nice sound. It cuts out from time to time ...</td>\n",
       "      <td>4</td>\n",
       "      <td>0</td>\n",
       "      <td>Y</td>\n",
       "      <td>N</td>\n",
       "      <td>0</td>\n",
       "      <td>(Nice, sound, ., It, cuts, out, from, time, to...</td>\n",
       "      <td>nice sound  cut time time occasionally stop pl...</td>\n",
       "      <td>0.3848</td>\n",
       "    </tr>\n",
       "    <tr>\n",
       "      <th>922</th>\n",
       "      <td>B00F5NE2KG</td>\n",
       "      <td>Bluetooth Speaker, DKnight Magicbox Ultra-Port...</td>\n",
       "      <td>The sound is pretty good; most important; it w...</td>\n",
       "      <td>A 100% compatible!!</td>\n",
       "      <td>5</td>\n",
       "      <td>0</td>\n",
       "      <td>Y</td>\n",
       "      <td>N</td>\n",
       "      <td>1</td>\n",
       "      <td>(The, sound, is, pretty, good, ;, most, import...</td>\n",
       "      <td>sound pretty good  important  work blackberry ...</td>\n",
       "      <td>0.8829</td>\n",
       "    </tr>\n",
       "    <tr>\n",
       "      <th>965</th>\n",
       "      <td>B00F5NE2KG</td>\n",
       "      <td>Bluetooth Speaker, DKnight Magicbox Ultra-Port...</td>\n",
       "      <td>Very impressed with the sound quality of this ...</td>\n",
       "      <td>It is a convenient size for travel and I love it!</td>\n",
       "      <td>5</td>\n",
       "      <td>0</td>\n",
       "      <td>Y</td>\n",
       "      <td>N</td>\n",
       "      <td>1</td>\n",
       "      <td>(Very, impressed, with, the, sound, quality, o...</td>\n",
       "      <td>sound quality device  convenient size travel l...</td>\n",
       "      <td>0.8353</td>\n",
       "    </tr>\n",
       "    <tr>\n",
       "      <th>1019</th>\n",
       "      <td>B00F5NE2KG</td>\n",
       "      <td>Bluetooth Speaker, DKnight Magicbox Ultra-Port...</td>\n",
       "      <td>Sound is ok. Main issue it constant Dropping o...</td>\n",
       "      <td>Connectivity Issues, Ok Sound.</td>\n",
       "      <td>1</td>\n",
       "      <td>0</td>\n",
       "      <td>Y</td>\n",
       "      <td>N</td>\n",
       "      <td>-1</td>\n",
       "      <td>(Sound, is, ok, ., Main, issue, it, constant, ...</td>\n",
       "      <td>sound  main issue constant dropping connection...</td>\n",
       "      <td>0.2960</td>\n",
       "    </tr>\n",
       "    <tr>\n",
       "      <th>1047</th>\n",
       "      <td>B00F5NE2KG</td>\n",
       "      <td>Bluetooth Speaker, DKnight Magicbox Ultra-Port...</td>\n",
       "      <td>Love this little guy. good sound and battery l...</td>\n",
       "      <td>In love!</td>\n",
       "      <td>4</td>\n",
       "      <td>0</td>\n",
       "      <td>Y</td>\n",
       "      <td>N</td>\n",
       "      <td>0</td>\n",
       "      <td>(Love, this, little, guy, ., good, sound, and,...</td>\n",
       "      <td>love little guy  good sound battery life  rang...</td>\n",
       "      <td>0.9736</td>\n",
       "    </tr>\n",
       "  </tbody>\n",
       "</table>\n",
       "</div>"
      ],
      "text/plain": [
       "      product_id                                      product_title  \\\n",
       "615   B00F5NE2KG  Bluetooth Speaker, DKnight Magicbox Ultra-Port...   \n",
       "922   B00F5NE2KG  Bluetooth Speaker, DKnight Magicbox Ultra-Port...   \n",
       "965   B00F5NE2KG  Bluetooth Speaker, DKnight Magicbox Ultra-Port...   \n",
       "1019  B00F5NE2KG  Bluetooth Speaker, DKnight Magicbox Ultra-Port...   \n",
       "1047  B00F5NE2KG  Bluetooth Speaker, DKnight Magicbox Ultra-Port...   \n",
       "\n",
       "                                            review_body  \\\n",
       "615   Nice sound. It cuts out from time to time and ...   \n",
       "922   The sound is pretty good; most important; it w...   \n",
       "965   Very impressed with the sound quality of this ...   \n",
       "1019  Sound is ok. Main issue it constant Dropping o...   \n",
       "1047  Love this little guy. good sound and battery l...   \n",
       "\n",
       "                                        review_headline  star_rating  \\\n",
       "615       Nice sound. It cuts out from time to time ...            4   \n",
       "922                                 A 100% compatible!!            5   \n",
       "965   It is a convenient size for travel and I love it!            5   \n",
       "1019                     Connectivity Issues, Ok Sound.            1   \n",
       "1047                                           In love!            4   \n",
       "\n",
       "      total_votes verified_purchase vine  nps  \\\n",
       "615             0                 Y    N    0   \n",
       "922             0                 Y    N    1   \n",
       "965             0                 Y    N    1   \n",
       "1019            0                 Y    N   -1   \n",
       "1047            0                 Y    N    0   \n",
       "\n",
       "                                      review_body_spacy  \\\n",
       "615   (Nice, sound, ., It, cuts, out, from, time, to...   \n",
       "922   (The, sound, is, pretty, good, ;, most, import...   \n",
       "965   (Very, impressed, with, the, sound, quality, o...   \n",
       "1019  (Sound, is, ok, ., Main, issue, it, constant, ...   \n",
       "1047  (Love, this, little, guy, ., good, sound, and,...   \n",
       "\n",
       "                                             nltk_terms   vader  \n",
       "615   nice sound  cut time time occasionally stop pl...  0.3848  \n",
       "922   sound pretty good  important  work blackberry ...  0.8829  \n",
       "965   sound quality device  convenient size travel l...  0.8353  \n",
       "1019  sound  main issue constant dropping connection...  0.2960  \n",
       "1047  love little guy  good sound battery life  rang...  0.9736  "
      ]
     },
     "execution_count": 43,
     "metadata": {},
     "output_type": "execute_result"
    }
   ],
   "source": [
    "# use VADER with original reviews column as input to include emotionally rich punctuation and capitalization: \n",
    "\n",
    "analyzer = SentimentIntensityAnalyzer()\n",
    "\n",
    "# compound is the normalized, weighted composite score:\n",
    "\n",
    "df_product['vader'] = [analyzer.polarity_scores(row)['compound'] for row in df_product.review_body] \n",
    "\n",
    "print(f'created VADER scores for {df_product.vader.shape[0]} rows\\n')\n",
    "\n",
    "df_product.head()"
   ]
  },
  {
   "cell_type": "code",
   "execution_count": 44,
   "metadata": {},
   "outputs": [
    {
     "data": {
      "text/plain": [
       "<matplotlib.axes._subplots.AxesSubplot at 0x7f8ffc615860>"
      ]
     },
     "execution_count": 44,
     "metadata": {},
     "output_type": "execute_result"
    },
    {
     "data": {
      "image/png": "[encoded data removed]",
      "text/plain": [
       "<Figure size 432x288 with 1 Axes>"
      ]
     },
     "metadata": {
      "needs_background": "light"
     },
     "output_type": "display_data"
    }
   ],
   "source": [
    "df_product.vader.hist()"
   ]
  },
  {
   "cell_type": "code",
   "execution_count": 45,
   "metadata": {},
   "outputs": [
    {
     "data": {
      "text/html": [
       "<div>\n",
       "<style scoped>\n",
       "    .dataframe tbody tr th:only-of-type {\n",
       "        vertical-align: middle;\n",
       "    }\n",
       "\n",
       "    .dataframe tbody tr th {\n",
       "        vertical-align: top;\n",
       "    }\n",
       "\n",
       "    .dataframe thead th {\n",
       "        text-align: right;\n",
       "    }\n",
       "</style>\n",
       "<table border=\"1\" class=\"dataframe\">\n",
       "  <thead>\n",
       "    <tr style=\"text-align: right;\">\n",
       "      <th></th>\n",
       "      <th>star_rating</th>\n",
       "      <th>total_votes</th>\n",
       "      <th>nps</th>\n",
       "      <th>vader</th>\n",
       "    </tr>\n",
       "  </thead>\n",
       "  <tbody>\n",
       "    <tr>\n",
       "      <th>star_rating</th>\n",
       "      <td>1.000000</td>\n",
       "      <td>-0.235700</td>\n",
       "      <td>0.937324</td>\n",
       "      <td>0.535479</td>\n",
       "    </tr>\n",
       "    <tr>\n",
       "      <th>total_votes</th>\n",
       "      <td>-0.235700</td>\n",
       "      <td>1.000000</td>\n",
       "      <td>-0.155711</td>\n",
       "      <td>-0.103346</td>\n",
       "    </tr>\n",
       "    <tr>\n",
       "      <th>nps</th>\n",
       "      <td>0.937324</td>\n",
       "      <td>-0.155711</td>\n",
       "      <td>1.000000</td>\n",
       "      <td>0.522761</td>\n",
       "    </tr>\n",
       "    <tr>\n",
       "      <th>vader</th>\n",
       "      <td>0.535479</td>\n",
       "      <td>-0.103346</td>\n",
       "      <td>0.522761</td>\n",
       "      <td>1.000000</td>\n",
       "    </tr>\n",
       "  </tbody>\n",
       "</table>\n",
       "</div>"
      ],
      "text/plain": [
       "             star_rating  total_votes       nps     vader\n",
       "star_rating     1.000000    -0.235700  0.937324  0.535479\n",
       "total_votes    -0.235700     1.000000 -0.155711 -0.103346\n",
       "nps             0.937324    -0.155711  1.000000  0.522761\n",
       "vader           0.535479    -0.103346  0.522761  1.000000"
      ]
     },
     "execution_count": 45,
     "metadata": {},
     "output_type": "execute_result"
    }
   ],
   "source": [
    "df_product.corr()"
   ]
  },
  {
   "cell_type": "code",
   "execution_count": 46,
   "metadata": {},
   "outputs": [
    {
     "data": {
      "text/plain": [
       "<matplotlib.axes._subplots.AxesSubplot at 0x7f8ffbf2eeb8>"
      ]
     },
     "execution_count": 46,
     "metadata": {},
     "output_type": "execute_result"
    },
    {
     "data": {
      "image/png": "[encoded data removed]",
      "text/plain": [
       "<Figure size 432x288 with 1 Axes>"
      ]
     },
     "metadata": {
      "needs_background": "light"
     },
     "output_type": "display_data"
    }
   ],
   "source": [
    "# explore top reviews using a vader filter > 0.95:\n",
    "\n",
    "df_p1_top_mask = (df_product['vader'] > 0.95)\n",
    "\n",
    "df_product[df_p1_top_mask].nps.hist()"
   ]
  },
  {
   "cell_type": "code",
   "execution_count": 47,
   "metadata": {},
   "outputs": [
    {
     "data": {
      "text/plain": [
       "<matplotlib.axes._subplots.AxesSubplot at 0x7f8ffbd1f748>"
      ]
     },
     "execution_count": 47,
     "metadata": {},
     "output_type": "execute_result"
    },
    {
     "data": {
      "image/png": "[encoded data removed]",
      "text/plain": [
       "<Figure size 432x288 with 1 Axes>"
      ]
     },
     "metadata": {
      "needs_background": "light"
     },
     "output_type": "display_data"
    }
   ],
   "source": [
    "df_product[df_p1_top_mask].star_rating.hist()"
   ]
  },
  {
   "cell_type": "code",
   "execution_count": 48,
   "metadata": {},
   "outputs": [],
   "source": [
    "# use a combination of vader and nps to create dataframe for top and bottom reviews:\n",
    "\n",
    "df_p1_top_mask = (df_product['vader'] > 0.95) & (df_product['nps'] == 1)\n",
    "df_top = df_product[df_p1_top_mask]\n",
    "\n",
    "df_p1_bot_mask = (df_product['vader'] < -0.25) & (df_product['nps'] == -1)\n",
    "df_bot = df_product[df_p1_bot_mask]\n"
   ]
  },
  {
   "cell_type": "code",
   "execution_count": 49,
   "metadata": {},
   "outputs": [
    {
     "data": {
      "text/plain": [
       "<corextopic.corextopic.Corex at 0x7f8ffc6152e8>"
      ]
     },
     "execution_count": 49,
     "metadata": {},
     "output_type": "execute_result"
    }
   ],
   "source": [
    "cor_vectorizer = CountVectorizer(max_features=20000, ngram_range=(1,2), binary=True, token_pattern=\"\\\\b[a-z][a-z]+\\\\b\", stop_words='english')\n",
    "\n",
    "cor_doc_word_top = cor_vectorizer.fit_transform(df_top['nltk_terms'])\n",
    "cor_words = list(np.asarray(cor_vectorizer.get_feature_names())) \n",
    "topic_model_top = ct.Corex(n_hidden=6, words = cor_words, seed=1)\n",
    "topic_model_top.fit(cor_doc_word_top, words = cor_words, docs = df_top.nltk_terms)\n",
    "\n",
    "# repeat process for bottom reveiws:\n",
    "\n",
    "cor_doc_word_bot = cor_vectorizer.fit_transform(df_bot['nltk_terms'])\n",
    "cor_words = list(np.asarray(cor_vectorizer.get_feature_names()))\n",
    "topic_model_bot = ct.Corex(n_hidden=6, words = cor_words, seed=1) # must be repeated\n",
    "topic_model_bot.fit(cor_doc_word_bot, words = cor_words, docs = df_bot.nltk_terms)\n"
   ]
  },
  {
   "cell_type": "markdown",
   "metadata": {},
   "source": [
    "#### Topic Evaluation: Top Reviews\n",
    "\n",
    "CorEx topic models operate on the principle of mutual information between topic words and the topic - not the highest probability of a topic word occurring. "
   ]
  },
  {
   "cell_type": "code",
   "execution_count": 50,
   "metadata": {},
   "outputs": [
    {
     "name": "stdout",
     "output_type": "stream",
     "text": [
      "0: quality,time,hour,convenient,super,simple,good,battery,sauna work,power able\n",
      "1: expect,absolutely,small expect,far,bathroom,play,shower,phone,able volume,price irresistible\n",
      "2: music,magic,highly,highly recommend,speaker great,overall,magic box,day,outer,needlessly\n",
      "3: come,read,listen,button,volume,way,wrong,place,clean,speaker perfect\n",
      "4: life,charger,amazing,perfect,battery life,great,great sound,able,travel,pair\n",
      "5: sound great,buy,product,work,gift,people,blue,great product,buy gift,look\n"
     ]
    }
   ],
   "source": [
    "# Print all topics from the top topic model:\n",
    "\n",
    "topics = topic_model_top.get_topics()\n",
    "for n, topic in enumerate(topics):\n",
    "    topic_words,_ = zip(*topic)\n",
    "    print('{}: '.format(n) + ','.join(topic_words))"
   ]
  },
  {
   "cell_type": "code",
   "execution_count": 51,
   "metadata": {},
   "outputs": [],
   "source": [
    "# retrieve original reviews & top topics for parameters specified:\n",
    "\n",
    "def TopicReviews(topic_number, topic_model_version, topic_dataframe):\n",
    "    \n",
    "    print('Topics: \\n\\n', topic_model_version.get_topics()[topic_number])\n",
    "\n",
    "    top_docs = topic_model_version.get_top_docs(topic=topic_number, n_docs=3)\n",
    "\n",
    "    for i in top_docs:\n",
    "        temp = (topic_dataframe.loc[topic_dataframe['nltk_terms'] == i[0]]).index[0]  # get row index of review for original review\n",
    "        print('\\nIndex:', temp)\n",
    "        print('Rating:', df.star_rating.iloc[temp])\n",
    "        print('Review:', df.review_body.iloc[temp])  # print original review"
   ]
  },
  {
   "cell_type": "markdown",
   "metadata": {},
   "source": [
    "#### Topic 0: \n",
    "\n",
    "In Topic 0, we can see that the word \"quality\" has the highest mutual information and sets the general topic theme. From Topic 0's other top words, we can find other specific justifications for why customers wrote enthusiastically positive reviews: \n",
    "\n",
    "* convenient\n",
    "* simple\n",
    "* works in wet environments (sauna)\n",
    "\n",
    "CorEx also allows us to `get_top_docs` to read the reviews most highly correlated with a topic. Since the text processing makes the CorEx input reviews difficult to read, I've indexed the original reviews for legibility.\n",
    "\n",
    "The top 3 reviews give us a better idea of what is meant by the \"quality\" topic: sound. Customers also like the size and portability.\n",
    "From a marketing perspective, these reviews that best define our quality topic tell us that customers are purchasing the product for their kids and as gifts."
   ]
  },
  {
   "cell_type": "code",
   "execution_count": 52,
   "metadata": {},
   "outputs": [
    {
     "name": "stdout",
     "output_type": "stream",
     "text": [
      "Topics: \n",
      "\n",
      " [('quality', 0.2871161706467012), ('time', -0.2523794416187052), ('hour', -0.2523794416187052), ('convenient', -0.2523794416187052), ('super', -0.2523794416187052), ('simple', -0.2523794416187052), ('good', -0.18655944323819362), ('battery', -0.18003393613197638), ('sauna work', -0.0976962730472197), ('power able', -0.0976962730472197)]\n",
      "\n",
      "Index: 4679\n",
      "Rating: 5\n",
      "Review: This speaker is absolutely amazing in itself, but the price makes it an irresistible product. I bought one to have a portable speaker for playing music outside and for our kids to play their bedtime music when traveling. The sound is  awesome, it has controls to adjust the volume as needed, and it's size is decent. The sound can easily be heard from 50 ft away and is far more than we expected for sound quality. We've actually purchased a couple more since to give as gifts. Absolutely a great buy!\n",
      "\n",
      "Index: 41768\n",
      "Rating: 5\n",
      "Review: When it showed up it looked smaller than I expected. Once I turned it on and linked into my music via blue tooth, the sound was anything but small ! The sound is HUGE and rich.  What a great product!\n",
      "\n",
      "Index: 40240\n",
      "Rating: 5\n",
      "Review: Used every day! I bought one as a gift and ended up buying two more. The sound quality is amazing, excellent battery life, and very portable. Works with any standard USB charger. A perfect gift for anyone!\n"
     ]
    }
   ],
   "source": [
    "TopicReviews(0, topic_model_top, df_top)"
   ]
  },
  {
   "cell_type": "markdown",
   "metadata": {},
   "source": [
    "#### Topic 1:\n",
    "\n",
    "Topic 1's general theme is **exceeds expectations**. Not only is \"*expect*\" the top topic words, but the top documents show a relationship between its \"smaller than expected\" size producing \"more than we expected for sound quality.\" This is all given, \"I did not expect much given its moderate price.\" For a product named \"MagicBox,\" exceeding expectations is brand-consistent.\n",
    "\n",
    "Topic 1 also reinforces insights from Topic 0: customers are buying the speaker for their children, giving it as gifts, and using it in wet environments."
   ]
  },
  {
   "cell_type": "code",
   "execution_count": 53,
   "metadata": {},
   "outputs": [
    {
     "name": "stdout",
     "output_type": "stream",
     "text": [
      "Topics: \n",
      "\n",
      " [('expect', 0.4315866407731118), ('absolutely', 0.2578501304561194), ('small expect', 0.2578501304561194), ('far', 0.2578501304561194), ('bathroom', 0.2578501304561194), ('play', 0.10840200102717856), ('shower', 0.10840200102717856), ('phone', -0.10791536570433324), ('able volume', 0.10245462225600757), ('price irresistible', 0.10245462225600757)]\n",
      "\n",
      "Index: 4679\n",
      "Rating: 5\n",
      "Review: This speaker is absolutely amazing in itself, but the price makes it an irresistible product. I bought one to have a portable speaker for playing music outside and for our kids to play their bedtime music when traveling. The sound is  awesome, it has controls to adjust the volume as needed, and it's size is decent. The sound can easily be heard from 50 ft away and is far more than we expected for sound quality. We've actually purchased a couple more since to give as gifts. Absolutely a great buy!\n",
      "\n",
      "Index: 41768\n",
      "Rating: 5\n",
      "Review: When it showed up it looked smaller than I expected. Once I turned it on and linked into my music via blue tooth, the sound was anything but small ! The sound is HUGE and rich.  What a great product!\n",
      "\n",
      "Index: 11750\n",
      "Rating: 5\n",
      "Review: Darn thing works too good. Bought this as a gift for our 15-year-old.  I did not think it would perform or sound as good as it does.  I did not expect much given its moderate price.  But it really puts out the sound, much to my chagrin. Our son plays it in the bathroom while he is showering and we can clearly hear it over the shower and his 15-year-old singing and shower sounds.  When I am able to get over the volume, the sound quality is pretty good too, although I still don't understand any of his music.  Still trying to figure out what &#34;back it up&#34; means.  I am pretty sure it is not a driving maneuver.\n"
     ]
    }
   ],
   "source": [
    "TopicReviews(1, topic_model_top, df_top)"
   ]
  },
  {
   "cell_type": "code",
   "execution_count": 54,
   "metadata": {},
   "outputs": [
    {
     "data": {
      "image/png": "[encoded data removed]",
      "text/plain": [
       "<Figure size 720x360 with 1 Axes>"
      ]
     },
     "metadata": {
      "needs_background": "light"
     },
     "output_type": "display_data"
    }
   ],
   "source": [
    "plt.figure(figsize=(10,5))\n",
    "plt.bar(range(topic_model_top.tcs.shape[0]), topic_model_top.tcs, color='#ffa500', width=0.5)\n",
    "plt.title('Correlation by Topic: Top Reviews')\n",
    "plt.xlabel('Topic', fontsize=16)\n",
    "plt.ylabel('Total Correlation (nats)', fontsize=16);"
   ]
  },
  {
   "cell_type": "markdown",
   "metadata": {},
   "source": [
    "#### Topic Evaluation: Bottom Reviews\n"
   ]
  },
  {
   "cell_type": "code",
   "execution_count": 55,
   "metadata": {},
   "outputs": [
    {
     "name": "stdout",
     "output_type": "stream",
     "text": [
      "0: away,present,high frequency,frequency noise,frequency,noise,high,little,weak,reason want\n",
      "1: second,item,product,increase,ploy manufacturer,return exchange,pass,quieter music,quieter,purpose advice\n",
      "2: minute,good,basically kick,right,review good,return day,reason,ratio increase,product buy,produce loud\n",
      "3: quality,buy,annoying plug,life,life good,little high,live,live buy,phone,phone galaxy\n",
      "4: box,version,port break,port,new version,version difficult,difficult,little box,control,charge port\n",
      "5: volume,new,annoying,die,expect,review,horrible,loud sound,sound horrible,sound tinny\n"
     ]
    }
   ],
   "source": [
    "# Print all topics from the bottom topic model:\n",
    "\n",
    "topics = topic_model_bot.get_topics()\n",
    "for n, topic in enumerate(topics):\n",
    "    topic_words,_ = zip(*topic)\n",
    "    print('{}: '.format(n) + ','.join(topic_words))"
   ]
  },
  {
   "cell_type": "markdown",
   "metadata": {},
   "source": [
    "#### Topic 0:\n",
    "\n",
    "This topic words show clustering around sound issues when using Bluetooth:\n",
    "\n",
    "* high frequency noise\n",
    "* audio quality\n",
    "* pairing & range\n",
    "\n",
    "These findings are surprising considering that most reviews are positive and mention superb sound quality. Further, 2 of the top documents mention the sound quality improving when operating from an auxillary cable. \n",
    "\n",
    "This topic reveals a potential manufacturing or component problem involving Bluetooth that is detracting from product performance."
   ]
  },
  {
   "cell_type": "code",
   "execution_count": 56,
   "metadata": {},
   "outputs": [
    {
     "name": "stdout",
     "output_type": "stream",
     "text": [
      "Topics: \n",
      "\n",
      " [('away', 0.6669720502886062), ('present', 0.6669720502886062), ('high frequency', 0.6669720502886062), ('frequency noise', 0.6669720502886062), ('frequency', 0.6669720502886062), ('noise', 0.6669720502886062), ('high', 0.39359844145540374), ('little', 0.2693309344976503), ('weak', 0.2189925561653457), ('reason want', 0.2189925561653457)]\n",
      "\n",
      "Index: 30630\n",
      "Rating: 3\n",
      "Review: Not sure I have a problem or if this is the expected behavior. On Bluetooth, there's a high frequency noise that is very irritating and takes away from the listening experience. This is not present with the aux cable. I have an iPhone 6. It's probably a little Overpriced given this drawback. Will wait to see how it behaves with other devices and may re review down the road.\n",
      "\n",
      "Index: 32311\n",
      "Rating: 2\n",
      "Review: First of all: The $99 retail price is a ploy. This is not a $99 speaker. It seems like a bargain to be getting it for 75% off, but then you receive the item in the mail and think, &#34;oh right, it's a $25 bluetooth speaker.&#34; Nice marketing ploy there by the manufacturer.<br /><br />Now to the performance of the product. It's not very good. Here are my complaints:<br /><br />- Almost no bass. Very weak bass. Tested the speaker with some good EDM jams (the new Jamie xx) and basically the kick was just not present. It sounded more like a &#34;tick&#34; than a &#34;kick&#34;.<br />- Noise. It's not as noticeable at higher volumes because of the signal-to-noise ratio increase, but at low volumes and with &#34;quieter&#34; music, you can hear a weird high-frequency noise. I don't know what it is (maybe interference from poor shielding?), but it wouldn't go away. Try listening to some Nick Drake or Vashti Bunyan at 25% volume. No good.<br />- Bluetooth pairing. Wow. Terrible. My iPhone 5S would pair and then if I stop the music for a few minutes, it was unpaired and pairing it back up again sometimes would take 60+ seconds. Periodically the speaker would produce a loud *beep* (different from the sound it makes when turned on or when pairing). I don't know if that's an indication that it's trying to pair but failing. In any case...the whole reason I want a bluetooth speaker is for the bluetooth connectivity. If that feature is weak, I'm not keeping the product.<br /><br />I bought a JBL Flip 2. More money, yes, but for the improved sound and connectivity, I'm happy to spend a little extra.<br /><br />Bottom line: this is a $25 bluetooth speaker. IF you think you're getting a $100 speaker at a great price, think again.\n",
      "\n",
      "Index: 26575\n",
      "Rating: 2\n",
      "Review: The bluetooth audio quality is bad. It's not unlistenable and it's not consistently bad, but it can be really annoying. Plugging my phone (Galaxy S6) into the speaker can help, but I bought it to be bluetooth, not a regular speaker. I don't feel like dealing with returns so I'll live with it, but if I were to buy another speaker I would get something a little more high end.\n"
     ]
    }
   ],
   "source": [
    "TopicReviews(0, topic_model_bot, df_bot)"
   ]
  },
  {
   "cell_type": "markdown",
   "metadata": {},
   "source": [
    "#### Topic 1:\n",
    "\n",
    "Topic 1 shares the defective product theme with Topic 0 and it follows that a top document is also repeated. However, this topic offers more information as to how the product is failing: \n",
    "\n",
    "* broken charge port\n",
    "* defective volume controls\n",
    "\n",
    "Since this product was sold online and reviews can be mapped to customers, the management has the ability to investigate supply chain and / or manufacturing patterns causing this defective lot."
   ]
  },
  {
   "cell_type": "code",
   "execution_count": 57,
   "metadata": {},
   "outputs": [
    {
     "name": "stdout",
     "output_type": "stream",
     "text": [
      "Topics: \n",
      "\n",
      " [('second', 0.6669720502886062), ('item', 0.6669720502886062), ('product', 0.6669720502886062), ('increase', 0.6669720502886062), ('ploy manufacturer', 0.2189925561653457), ('return exchange', 0.2189925561653457), ('pass', 0.2189925561653457), ('quieter music', 0.2189925561653457), ('quieter', 0.2189925561653457), ('purpose advice', 0.2189925561653457)]\n",
      "\n",
      "Index: 26271\n",
      "Rating: 1\n",
      "Review: This is the third one I have purchased. First one was returned and exchanged. Second one worked well and I gifted it to my niece. The third one<br />does not work properly. [The volume does not increase or decrease. It stays the same.]<br />As I have been out of the USA for more than a month, I have only just got it. However Amazon says the time has passed to return/exchange it, so am stuck with a product that serves no purpose. My advice is NOT to purchase this item as two out of three have not worked.\n",
      "\n",
      "Index: 32311\n",
      "Rating: 2\n",
      "Review: First of all: The $99 retail price is a ploy. This is not a $99 speaker. It seems like a bargain to be getting it for 75% off, but then you receive the item in the mail and think, &#34;oh right, it's a $25 bluetooth speaker.&#34; Nice marketing ploy there by the manufacturer.<br /><br />Now to the performance of the product. It's not very good. Here are my complaints:<br /><br />- Almost no bass. Very weak bass. Tested the speaker with some good EDM jams (the new Jamie xx) and basically the kick was just not present. It sounded more like a &#34;tick&#34; than a &#34;kick&#34;.<br />- Noise. It's not as noticeable at higher volumes because of the signal-to-noise ratio increase, but at low volumes and with &#34;quieter&#34; music, you can hear a weird high-frequency noise. I don't know what it is (maybe interference from poor shielding?), but it wouldn't go away. Try listening to some Nick Drake or Vashti Bunyan at 25% volume. No good.<br />- Bluetooth pairing. Wow. Terrible. My iPhone 5S would pair and then if I stop the music for a few minutes, it was unpaired and pairing it back up again sometimes would take 60+ seconds. Periodically the speaker would produce a loud *beep* (different from the sound it makes when turned on or when pairing). I don't know if that's an indication that it's trying to pair but failing. In any case...the whole reason I want a bluetooth speaker is for the bluetooth connectivity. If that feature is weak, I'm not keeping the product.<br /><br />I bought a JBL Flip 2. More money, yes, but for the improved sound and connectivity, I'm happy to spend a little extra.<br /><br />Bottom line: this is a $25 bluetooth speaker. IF you think you're getting a $100 speaker at a great price, think again.\n",
      "\n",
      "Index: 41296\n",
      "Rating: 1\n",
      "Review: charge port its already broken. Not even six months yet\n"
     ]
    }
   ],
   "source": [
    "TopicReviews(1, topic_model_bot, df_bot)"
   ]
  },
  {
   "cell_type": "code",
   "execution_count": 58,
   "metadata": {},
   "outputs": [
    {
     "data": {
      "image/png": "[encoded data removed]",
      "text/plain": [
       "<Figure size 720x360 with 1 Axes>"
      ]
     },
     "metadata": {
      "needs_background": "light"
     },
     "output_type": "display_data"
    }
   ],
   "source": [
    "plt.figure(figsize=(10,5))\n",
    "plt.bar(range(topic_model_bot.tcs.shape[0]), topic_model_bot.tcs, color='#4e79a7', width=0.5)\n",
    "plt.title('Correlation by Topic: Bottom Reviews')\n",
    "plt.xlabel('Topic', fontsize=16)\n",
    "plt.ylabel('Total Correlation (nats)', fontsize=16);"
   ]
  }
 ],
 "metadata": {
  "kernelspec": {
   "display_name": "Python 3",
   "language": "python",
   "name": "python3"
  },
  "language_info": {
   "codemirror_mode": {
    "name": "ipython",
    "version": 3
   },
   "file_extension": ".py",
   "mimetype": "text/x-python",
   "name": "python",
   "nbconvert_exporter": "python",
   "pygments_lexer": "ipython3",
   "version": "3.7.3"
  }
 },
 "nbformat": 4,
 "nbformat_minor": 4
}
